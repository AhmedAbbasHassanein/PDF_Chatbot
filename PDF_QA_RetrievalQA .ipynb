{
  "nbformat": 4,
  "nbformat_minor": 0,
  "metadata": {
    "colab": {
      "provenance": []
    },
    "kernelspec": {
      "name": "python3",
      "display_name": "Python 3"
    },
    "language_info": {
      "name": "python"
    }
  },
  "cells": [
    {
      "cell_type": "code",
      "execution_count": null,
      "metadata": {
        "id": "Tv6OR0VaHm_t",
        "colab": {
          "base_uri": "https://localhost:8080/",
          "height": 646
        },
        "outputId": "59a2a6d7-275a-4929-ccee-c9e47535a86a"
      },
      "outputs": [
        {
          "output_type": "stream",
          "name": "stdout",
          "text": [
            "Running Gradio in a Colab notebook requires sharing enabled. Automatically setting `share=True` (you can turn this off by setting `share=False` in `launch()` explicitly).\n",
            "\n",
            "Colab notebook detected. To show errors in colab notebook, set debug=True in launch()\n",
            "* Running on public URL: https://9410af1ea2c2789609.gradio.live\n",
            "\n",
            "This share link expires in 72 hours. For free permanent hosting and GPU upgrades, run `gradio deploy` from the terminal in the working directory to deploy to Hugging Face Spaces (https://huggingface.co/spaces)\n"
          ]
        },
        {
          "output_type": "display_data",
          "data": {
            "text/plain": [
              "<IPython.core.display.HTML object>"
            ],
            "text/html": [
              "<div><iframe src=\"https://9410af1ea2c2789609.gradio.live\" width=\"100%\" height=\"500\" allow=\"autoplay; camera; microphone; clipboard-read; clipboard-write;\" frameborder=\"0\" allowfullscreen></iframe></div>"
            ]
          },
          "metadata": {}
        },
        {
          "output_type": "execute_result",
          "data": {
            "text/plain": []
          },
          "metadata": {},
          "execution_count": 2
        }
      ],
      "source": [
        "# Step 1: Install dependencies\n",
        "!pip install PyMuPDF langchain langchain-community chromadb sentence-transformers transformers gradio -qq\n",
        "\n",
        "# Step 2: Import necessary libraries\n",
        "import fitz  # PyMuPDF\n",
        "import gradio as gr\n",
        "import tempfile\n",
        "from langchain.embeddings import SentenceTransformerEmbeddings\n",
        "from langchain.vectorstores import Chroma\n",
        "from langchain.text_splitter import RecursiveCharacterTextSplitter\n",
        "from langchain.chains import RetrievalQA\n",
        "from langchain.llms import HuggingFacePipeline\n",
        "from transformers import AutoTokenizer, AutoModelForSeq2SeqLM, pipeline\n",
        "\n",
        "# Step 3: Define functions to load PDF, create embeddings, and answer questions\n",
        "\n",
        "# Function to load and extract text from a PDF file\n",
        "def load_pdf(pdf_path):\n",
        "    with fitz.open(pdf_path) as doc:\n",
        "        text = \"\"\n",
        "        for page in doc:\n",
        "            text += page.get_text()\n",
        "    return text\n",
        "\n",
        "# Initialize the embedding model and vector store (this can be outside the Gradio function to avoid reloading each time)\n",
        "embedding_model = SentenceTransformerEmbeddings(model_name=\"all-MiniLM-L6-v2\")\n",
        "model_id = \"google/flan-t5-large\"\n",
        "tokenizer = AutoTokenizer.from_pretrained(model_id)\n",
        "model = AutoModelForSeq2SeqLM.from_pretrained(model_id)\n",
        "pipe = pipeline(\"text2text-generation\", model=model, tokenizer=tokenizer, max_length=512)\n",
        "llm = HuggingFacePipeline(pipeline=pipe)\n",
        "\n",
        "# Main function to process PDF, generate embeddings, and answer a question\n",
        "def answer_question(pdf_file, question):\n",
        "    # Load and split the PDF text\n",
        "    pdf_text = load_pdf(pdf_file.name)\n",
        "    text_splitter = RecursiveCharacterTextSplitter(chunk_size=1000, chunk_overlap=200)\n",
        "    texts = text_splitter.split_text(pdf_text)\n",
        "\n",
        "    # Generate embeddings and store them in a new ChromaDB instance\n",
        "    # Temporary directory to avoid conflicts\n",
        "    with tempfile.TemporaryDirectory() as temp_dir:\n",
        "        vectorstore = Chroma.from_texts(texts, embedding_model, persist_directory=temp_dir)\n",
        "        qa_chain = RetrievalQA.from_chain_type(llm=llm, chain_type=\"stuff\", retriever=vectorstore.as_retriever())\n",
        "\n",
        "        # Run the Q&A chain with the user's question\n",
        "        answer = qa_chain.run(question)\n",
        "    return answer\n",
        "\n",
        "# Step 4: Set up the Gradio interface\n",
        "pdf_input = gr.File(label=\"Upload PDF\")\n",
        "question_input = gr.Textbox(label=\"Enter your question\")\n",
        "answer_output = gr.Textbox(label=\"Answer\")\n",
        "\n",
        "interface = gr.Interface(\n",
        "    fn=answer_question,\n",
        "    inputs=[pdf_input, question_input],\n",
        "    outputs=answer_output,\n",
        "    title=\"PDF Question Answering\",\n",
        "    description=\"Upload a PDF and ask any question to get detailed answers from the document.\"\n",
        ")\n",
        "\n",
        "# Launch the Gradio interface\n",
        "interface.launch()"
      ]
    }
  ]
}